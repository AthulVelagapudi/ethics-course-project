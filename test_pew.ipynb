{
 "cells": [
  {
   "cell_type": "code",
   "execution_count": 1,
   "id": "b683fe73",
   "metadata": {},
   "outputs": [
    {
     "name": "stdout",
     "output_type": "stream",
     "text": [
      "Rows: 29999, Columns: 308\n"
     ]
    },
    {
     "name": "stderr",
     "output_type": "stream",
     "text": [
      "/var/folders/nz/z1fxd0ps6vjf1nb904g0py9r0000gn/T/ipykernel_71131/2181044967.py:3: DtypeWarning: Columns (47,48,73,74,75,76,77,78,79,80,81,82,83,84,87,91,174,175,209,245) have mixed types. Specify dtype option on import or set low_memory=False.\n",
      "  df = pd.read_csv(\"pew/India Religion Public Data - Pew Research Center (All Vars).csv\")\n"
     ]
    }
   ],
   "source": [
    "import pandas as pd\n",
    "\n",
    "df = pd.read_csv(\"pew/India Religion Public Data - Pew Research Center (All Vars).csv\")\n",
    "\n",
    "rows, cols = df.shape\n",
    "print(f\"Rows: {rows}, Columns: {cols}\")"
   ]
  },
  {
   "cell_type": "code",
   "execution_count": 2,
   "id": "069dab45",
   "metadata": {},
   "outputs": [
    {
     "data": {
      "text/plain": [
       "308"
      ]
     },
     "execution_count": 2,
     "metadata": {},
     "output_type": "execute_result"
    }
   ],
   "source": [
    "cols"
   ]
  },
  {
   "cell_type": "code",
   "execution_count": 5,
   "id": "2d99fdfb",
   "metadata": {},
   "outputs": [],
   "source": [
    "import json\n",
    "\n",
    "with open(\"data/chosen_cols.json\", \"r\") as f:\n",
    "    data = json.load(f)\n",
    "    chosen_cols = [colname for colname in data[\"chosen_cols\"] if data[\"chosen_cols\"][colname] is True]\n",
    "    persona_cols = data[\"persona_cols\"] "
   ]
  },
  {
   "cell_type": "markdown",
   "id": "3126b61e",
   "metadata": {},
   "source": [
    "## Chosen Persona Features"
   ]
  },
  {
   "cell_type": "code",
   "execution_count": 6,
   "id": "06f83e83",
   "metadata": {},
   "outputs": [],
   "source": [
    "import pandas as pd\n",
    "\n",
    "grouped = df[persona_cols].groupby(persona_cols).size().reset_index(name='Counts')\n",
    "grouped.to_csv(\"data/2022_india_persona_groups.csv\", index=False)"
   ]
  },
  {
   "cell_type": "markdown",
   "id": "9537865b",
   "metadata": {},
   "source": [
    "## Chosen Columns"
   ]
  },
  {
   "cell_type": "code",
   "execution_count": 7,
   "id": "b7b8b9e6",
   "metadata": {},
   "outputs": [
    {
     "name": "stdout",
     "output_type": "stream",
     "text": [
      "Rows: 1692, Columns: 178\n"
     ]
    }
   ],
   "source": [
    "from IPython.display import display\n",
    "import pandas as pd\n",
    "\n",
    "def is_chosen_col(col):\n",
    "    qsn = col.split(':')[0].strip()\n",
    "    return qsn in chosen_cols\n",
    "\n",
    "chosen_col_names = persona_cols + [col for col in df.columns if is_chosen_col(col)]\n",
    "chosen = df[chosen_col_names]\n",
    "chosen.to_csv(\"data/2022_india_cleaned.csv\", index=False)\n",
    "\n",
    "rows, cols = chosen.shape\n",
    "print(f\"Rows: {rows}, Columns: {cols}\")"
   ]
  },
  {
   "cell_type": "code",
   "execution_count": 8,
   "id": "fc2af9b9",
   "metadata": {},
   "outputs": [
    {
     "data": {
      "text/plain": [
       "(14, 164)"
      ]
     },
     "execution_count": 8,
     "metadata": {},
     "output_type": "execute_result"
    }
   ],
   "source": [
    "len(persona_cols), len(chosen_cols)"
   ]
  },
  {
   "cell_type": "code",
   "execution_count": 9,
   "id": "5983619f",
   "metadata": {},
   "outputs": [
    {
     "name": "stdout",
     "output_type": "stream",
     "text": [
      "  N_REGION_ISO: Region ISO 3166-2  User Count\n",
      "0                     IN-BR Bihar         241\n",
      "1                     IN-DL Delhi         229\n",
      "2                   IN-HR Haryana         115\n",
      "3               IN-MH Maharashtra         202\n",
      "4                    IN-PB Punjab         122\n",
      "5                 IN-TG Telangana         210\n",
      "6             IN-UP Uttar Pradesh         360\n",
      "7               IN-WB West Bengal         213\n"
     ]
    }
   ],
   "source": [
    "users_per_region = chosen.groupby('N_REGION_ISO: Region ISO 3166-2').size().reset_index(name='User Count')\n",
    "print(users_per_region)"
   ]
  },
  {
   "cell_type": "markdown",
   "id": "ffb44e9f",
   "metadata": {},
   "source": [
    "## Charts"
   ]
  },
  {
   "cell_type": "code",
   "execution_count": null,
   "id": "60e29554",
   "metadata": {},
   "outputs": [],
   "source": [
    "import matplotlib.pyplot as plt\n",
    "import seaborn as sns\n",
    "import os\n",
    "import re\n",
    "\n",
    "os.makedirs(\"plots2\", exist_ok=True)\n",
    "\n",
    "df1 = pd.read_csv(\"data/2022_cleaned.csv\")\n",
    "df1[\"Country\"] = \"India\"\n",
    "\n",
    "df2 = pd.read_csv(\"data/2022_russia_cleaned.csv\")\n",
    "df2[\"Country\"] = \"Russia\"\n",
    "\n",
    "df3 = pd.read_csv(\"data/2022_US_cleaned.csv\")\n",
    "df3[\"Country\"] = \"US\"\n",
    "\n",
    "df4 = pd.read_csv(\"data/2022_japan_cleaned.csv\")\n",
    "df4[\"Country\"] = \"Japan\"\n",
    "\n",
    "df5 = pd.read_csv(\"data/2022_australia_cleaned.csv\")\n",
    "df5[\"Country\"] = \"Australia\"\n",
    "\n",
    "df = pd.concat([df1, df2, df3, df4, df5], ignore_index=True)\n",
    "\n",
    "def sanitize_filename(name: str) -> str:\n",
    "    return re.sub(r'[^A-Za-z0-9_\\-]', '_', name)\n",
    "\n",
    "cols_to_show = [col for col in df.columns if is_chosen_col(col)]\n",
    "cols_to_compare = [\n",
    "    'N_REGION_ISO: Region ISO 3166-2'\n",
    "]\n",
    "\n",
    "for persona_value in cols_to_compare:\n",
    "    print(f\"Comparing Different {persona_value} Options\")\n",
    "\n",
    "    for col in cols_to_show:\n",
    "        if col == persona_value:\n",
    "            continue\n",
    "\n",
    "        ct = df.groupby(persona_value)[col].value_counts().unstack(fill_value=0)\n",
    "        ct_pct = ct.div(ct.sum(axis=1), axis=0) * 100\n",
    "\n",
    "        plt.figure(figsize=(12, 6))\n",
    "        sns.heatmap(ct_pct, annot=True, fmt=\".1f\", cmap=\"YlGnBu\")\n",
    "        plt.title(f'Option Percentage Heatmap for {col} by {persona_value}')\n",
    "        plt.xlabel(col)\n",
    "        plt.ylabel(persona_value)\n",
    "        plt.tight_layout()\n",
    "\n",
    "        safe_col = sanitize_filename(col)\n",
    "        safe_persona = sanitize_filename(persona_value)\n",
    "        filename = f\"plots2/heatmap_{safe_col}_by_{safe_persona}.png\"\n",
    "\n",
    "        plt.savefig(filename, dpi=300)\n",
    "        plt.close()"
   ]
  },
  {
   "cell_type": "code",
   "execution_count": null,
   "id": "ec488c0b",
   "metadata": {},
   "outputs": [
    {
     "name": "stdout",
     "output_type": "stream",
     "text": [
      "Comparing Different Country Options\n"
     ]
    }
   ],
   "source": [
    "import matplotlib.pyplot as plt\n",
    "import seaborn as sns\n",
    "import os\n",
    "import re\n",
    "\n",
    "os.makedirs(\"plots2\", exist_ok=True)\n",
    "\n",
    "df1 = pd.read_csv(\"data/2022_cleaned.csv\")\n",
    "df1[\"Country\"] = \"India\"\n",
    "\n",
    "df2 = pd.read_csv(\"data/2022_russia_cleaned.csv\")\n",
    "df2[\"Country\"] = \"Russia\"\n",
    "\n",
    "df3 = pd.read_csv(\"data/2022_US_cleaned.csv\")\n",
    "df3[\"Country\"] = \"US\"\n",
    "\n",
    "df4 = pd.read_csv(\"data/2022_japan_cleaned.csv\")\n",
    "df4[\"Country\"] = \"Japan\"\n",
    "\n",
    "df5 = pd.read_csv(\"data/2022_australia_cleaned.csv\")\n",
    "df5[\"Country\"] = \"Australia\"\n",
    "\n",
    "df = pd.concat([df1, df2, df3, df4, df5], ignore_index=True)\n",
    "\n",
    "def sanitize_filename(name: str) -> str:\n",
    "    return re.sub(r'[^A-Za-z0-9_\\-]', '_', name)\n",
    "\n",
    "cols_to_show = [col for col in df.columns if is_chosen_col(col)]\n",
    "cols_to_compare = [\n",
    "    'Country',\n",
    "    # 'N_REGION_ISO: Region ISO 3166-2',\n",
    "    # 'H_URBRURAL: Urban-Rural',\n",
    "    # 'Q260: Sex',\n",
    "    # 'X003R: Age recoded (6 intervals)',\n",
    "    # 'Q272: Language at home',\n",
    "    # 'Q273: Marital status',\n",
    "    # 'Q275R: Highest educational level: Respondent (recoded into 3 groups)',\n",
    "    # 'Q279: Employment status',\n",
    "    # 'Q287: Social class (subjective)',\n",
    "    # 'Q289: Religious denominations - major groups'\n",
    "]\n",
    "\n",
    "for persona_value in cols_to_compare:\n",
    "    print(f\"Comparing Different {persona_value} Options\")\n",
    "\n",
    "    for col in cols_to_show:\n",
    "        if col == persona_value:\n",
    "            continue\n",
    "\n",
    "        ct = df.groupby(persona_value)[col].value_counts().unstack(fill_value=0)\n",
    "        ct_pct = ct.div(ct.sum(axis=1), axis=0) * 100\n",
    "\n",
    "        plt.figure(figsize=(12, 6))\n",
    "        sns.heatmap(ct_pct, annot=True, fmt=\".1f\", cmap=\"YlGnBu\")\n",
    "        plt.title(f'Option Percentage Heatmap for {col} by {persona_value}')\n",
    "        plt.xlabel(col)\n",
    "        plt.ylabel(persona_value)\n",
    "        plt.tight_layout()\n",
    "\n",
    "        safe_col = sanitize_filename(col)\n",
    "        safe_persona = sanitize_filename(persona_value)\n",
    "        filename = f\"plots2/heatmap_{safe_col}_by_{safe_persona}.png\"\n",
    "\n",
    "        plt.savefig(filename, dpi=300)\n",
    "        plt.close()"
   ]
  }
 ],
 "metadata": {
  "kernelspec": {
   "display_name": "env (3.13.3)",
   "language": "python",
   "name": "python3"
  },
  "language_info": {
   "codemirror_mode": {
    "name": "ipython",
    "version": 3
   },
   "file_extension": ".py",
   "mimetype": "text/x-python",
   "name": "python",
   "nbconvert_exporter": "python",
   "pygments_lexer": "ipython3",
   "version": "3.13.3"
  }
 },
 "nbformat": 4,
 "nbformat_minor": 5
}
